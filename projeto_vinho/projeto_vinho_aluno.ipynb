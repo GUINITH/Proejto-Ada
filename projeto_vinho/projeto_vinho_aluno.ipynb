{
 "cells": [
  {
   "cell_type": "markdown",
   "metadata": {},
   "source": [
    "# Projeto"
   ]
  },
  {
   "cell_type": "markdown",
   "metadata": {},
   "source": [
    "Neste projeto, iremos explorar e analisar um conjunto de dados sobre a qualidade de vinhos tintos e brancos. \n",
    "Voce encontrara dois arquivos csv, um `winequality-red.csv` e `winequality-white.csv`."
   ]
  },
  {
   "cell_type": "markdown",
   "metadata": {},
   "source": [
    "## Tarefas do Projeto\n",
    "\n",
    "### 1. Leitura e Visualização dos Dados:\n",
    "Leia o conjunto de dados sobre a qualidade do vinho.\n",
    "Mostre as primeiras linhas dos dois DataFrames.\n",
    "Exiba informações sobre o DataFrames, como quantidade de linhas e colunas, tipos de dados, etc.\n",
    "\n"
   ]
  },
  {
   "cell_type": "code",
   "execution_count": 1,
   "metadata": {},
   "outputs": [
    {
     "name": "stdout",
     "output_type": "stream",
     "text": [
      "  fixed acidity;\"volatile acidity\";\"citric acid\";\"residual sugar\";\"chlorides\";\"free sulfur dioxide\";\"total sulfur dioxide\";\"density\";\"pH\";\"sulphates\";\"alcohol\";\"quality\"\n",
      "0   7.4;0.7;0;1.9;0.076;11;34;0.9978;3.51;0.56;9.4;5                                                                                                                     \n",
      "1   7.8;0.88;0;2.6;0.098;25;67;0.9968;3.2;0.68;9.8;5                                                                                                                     \n",
      "2  7.8;0.76;0.04;2.3;0.092;15;54;0.997;3.26;0.65;...                                                                                                                     \n",
      "3  11.2;0.28;0.56;1.9;0.075;17;60;0.998;3.16;0.58...                                                                                                                     \n",
      "4   7.4;0.7;0;1.9;0.076;11;34;0.9978;3.51;0.56;9.4;5                                                                                                                     \n",
      "  fixed acidity;\"volatile acidity\";\"citric acid\";\"residual sugar\";\"chlorides\";\"free sulfur dioxide\";\"total sulfur dioxide\";\"density\";\"pH\";\"sulphates\";\"alcohol\";\"quality\"\n",
      "0   7;0.27;0.36;20.7;0.045;45;170;1.001;3;0.45;8.8;6                                                                                                                     \n",
      "1  6.3;0.3;0.34;1.6;0.049;14;132;0.994;3.3;0.49;9...                                                                                                                     \n",
      "2  8.1;0.28;0.4;6.9;0.05;30;97;0.9951;3.26;0.44;1...                                                                                                                     \n",
      "3  7.2;0.23;0.32;8.5;0.058;47;186;0.9956;3.19;0.4...                                                                                                                     \n",
      "4  7.2;0.23;0.32;8.5;0.058;47;186;0.9956;3.19;0.4...                                                                                                                     \n",
      "<class 'pandas.core.frame.DataFrame'>\n",
      "RangeIndex: 1599 entries, 0 to 1598\n",
      "Data columns (total 1 columns):\n",
      " #   Column                                                                                                                                                                   Non-Null Count  Dtype \n",
      "---  ------                                                                                                                                                                   --------------  ----- \n",
      " 0   fixed acidity;\"volatile acidity\";\"citric acid\";\"residual sugar\";\"chlorides\";\"free sulfur dioxide\";\"total sulfur dioxide\";\"density\";\"pH\";\"sulphates\";\"alcohol\";\"quality\"  1599 non-null   object\n",
      "dtypes: object(1)\n",
      "memory usage: 12.6+ KB\n",
      "None\n",
      "<class 'pandas.core.frame.DataFrame'>\n",
      "RangeIndex: 4898 entries, 0 to 4897\n",
      "Data columns (total 1 columns):\n",
      " #   Column                                                                                                                                                                   Non-Null Count  Dtype \n",
      "---  ------                                                                                                                                                                   --------------  ----- \n",
      " 0   fixed acidity;\"volatile acidity\";\"citric acid\";\"residual sugar\";\"chlorides\";\"free sulfur dioxide\";\"total sulfur dioxide\";\"density\";\"pH\";\"sulphates\";\"alcohol\";\"quality\"  4898 non-null   object\n",
      "dtypes: object(1)\n",
      "memory usage: 38.4+ KB\n",
      "None\n",
      "Quantidade de linhas e colunas no DataFrame de vinho vermelho: (1599, 1)\n",
      "Quantidade de linhas e colunas no DataFrame de vinho branco: (4898, 1)\n",
      "Tipos de dados do DataFrame de vinhos vermelhos:\n",
      "fixed acidity;\"volatile acidity\";\"citric acid\";\"residual sugar\";\"chlorides\";\"free sulfur dioxide\";\"total sulfur dioxide\";\"density\";\"pH\";\"sulphates\";\"alcohol\";\"quality\"    object\n",
      "dtype: object\n",
      "\n",
      "Tipos de dados do DataFrame de vinhos brancos:\n",
      "fixed acidity;\"volatile acidity\";\"citric acid\";\"residual sugar\";\"chlorides\";\"free sulfur dioxide\";\"total sulfur dioxide\";\"density\";\"pH\";\"sulphates\";\"alcohol\";\"quality\"    object\n",
      "dtype: object\n"
     ]
    }
   ],
   "source": [
    "\n",
    "import pandas as pd\n",
    "\n",
    "# Carregar os dados\n",
    "df_vinhos_vermelhos = pd.read_csv('.\\wine_quality\\winequality-red.csv')\n",
    "df_vinhos_brancos = pd.read_csv('.\\wine_quality\\winequality-white.csv')\n",
    "\n",
    "# Mostrar as primeiras linhas de cada DataFrame\n",
    "print(df_vinhos_vermelhos.head())\n",
    "print(df_vinhos_brancos.head())\n",
    "\n",
    "# Exibir informações sobre os DataFrames\n",
    "print(df_vinhos_vermelhos.info())\n",
    "print(df_vinhos_brancos.info())\n",
    "\n",
    "# Verificar a quantidade de linhas e colunas em cada DataFrame\n",
    "print(\"Quantidade de linhas e colunas no DataFrame de vinho vermelho:\", df_vinhos_vermelhos.shape)\n",
    "print(\"Quantidade de linhas e colunas no DataFrame de vinho branco:\", df_vinhos_brancos.shape)\n",
    "\n",
    "# Verificar os tipos de dados das colunas\n",
    "tipos_de_dados1 = df_vinhos_vermelhos.dtypes\n",
    "tipos_de_dados2 = df_vinhos_brancos.dtypes\n",
    "\n",
    "print(\"Tipos de dados do DataFrame de vinhos vermelhos:\")\n",
    "print(tipos_de_dados1)\n",
    "\n",
    "print(\"\\nTipos de dados do DataFrame de vinhos brancos:\")\n",
    "print(tipos_de_dados2)\n"
   ]
  },
  {
   "cell_type": "markdown",
   "metadata": {},
   "source": [
    "### 2) Calcule a média, mediana e desvio-padrão, minimo, maximo e quartis da coluna 'pH'. Calcule a differenca entre os desvio-padroes, medias e medianas dos dois dataframes. "
   ]
  },
  {
   "cell_type": "code",
   "execution_count": null,
   "metadata": {},
   "outputs": [],
   "source": [
    "\n"
   ]
  },
  {
   "cell_type": "markdown",
   "metadata": {},
   "source": [
    "### 3) Crie um novo dataframe que junta os dois dataframes em somente um dataframe, adicione uma coluna `type` que tera o valor 'red' para os vinhos tintos e 'white\" para os vinhos brancos."
   ]
  },
  {
   "cell_type": "code",
   "execution_count": null,
   "metadata": {},
   "outputs": [],
   "source": []
  },
  {
   "cell_type": "markdown",
   "metadata": {},
   "source": [
    "### 4) Agrupe o novo dataframe pela variavel `type` e calcule a media da qualidade `quality` de cada tipo de vinho. Descreva em palavras os seus resultados."
   ]
  },
  {
   "cell_type": "code",
   "execution_count": null,
   "metadata": {},
   "outputs": [],
   "source": [
    "\n"
   ]
  },
  {
   "cell_type": "markdown",
   "metadata": {},
   "source": [
    "### 5) Usando o Numpy crie uma nova coluna para esse dataframe. Essa coluna devera ser chamada de `outlier_chlorides` e devera conter `True` caso a variavel `chlorides` esteja fora do intervalo [q1-1.5*IQR, q3 + 1.5*IQR], onde q1 e q3 correspondem ao primeiro e tercerio quartis e IQR corresponde ao intervalo interquartil. Caso contrario a variavel devera conter o valor `False`."
   ]
  },
  {
   "cell_type": "code",
   "execution_count": null,
   "metadata": {},
   "outputs": [],
   "source": []
  },
  {
   "cell_type": "markdown",
   "metadata": {},
   "source": [
    "### Conte o numero de outliers usando a variavel `outlier_chlorides`.\n",
    "\n"
   ]
  },
  {
   "cell_type": "code",
   "execution_count": null,
   "metadata": {},
   "outputs": [],
   "source": [
    "\n"
   ]
  },
  {
   "cell_type": "markdown",
   "metadata": {},
   "source": [
    "### 6) Utilizando a variavel `outlier_chlorides` remova os valores que sao considerados outilers desse Dataframe."
   ]
  },
  {
   "cell_type": "code",
   "execution_count": null,
   "metadata": {},
   "outputs": [],
   "source": [
    "\n"
   ]
  },
  {
   "cell_type": "markdown",
   "metadata": {},
   "source": [
    "### 7) Crie um gráfico de dispersão (scatter plot) mostrando a relação entre 'fixed acidtity' e 'residual_sugar'. No grafico, mostre os valores para vinhos brancos e tintos com dois tipos differentes de marcadores e com duas cores distintas. Explique a relacao entre as variaveis fixed acidtity' e 'residual_sugar'  para cada tipo de vinho com base nos seus resultados."
   ]
  },
  {
   "cell_type": "code",
   "execution_count": null,
   "metadata": {},
   "outputs": [],
   "source": [
    "\n"
   ]
  },
  {
   "cell_type": "markdown",
   "metadata": {},
   "source": [
    "### 8) Usando um histograma para cada tipo de vinho, mostre a distribuicao da variavel `quality` para cada `type` de vinho. "
   ]
  },
  {
   "cell_type": "code",
   "execution_count": null,
   "metadata": {},
   "outputs": [],
   "source": []
  },
  {
   "cell_type": "markdown",
   "metadata": {},
   "source": [
    "### 9) Utilizando as variaveis \"chlorides\";\"total sulfur dioxide\";\"density\";\"pH\"; faca um **pairplot** do  para avaliar visualmente algumas os scatter plots entre as colunas, par a par."
   ]
  },
  {
   "cell_type": "code",
   "execution_count": null,
   "metadata": {},
   "outputs": [],
   "source": [
    "\n"
   ]
  },
  {
   "cell_type": "markdown",
   "metadata": {},
   "source": [
    "### 10) Utilizando as variaveis \"chlorides\";\"total sulfur dioxide\";\"density\";\"pH\"; faca um **pairplot** do  para avaliar visualmente algumas os scatter plots entre as colunas, par a par para cada  tipo de vinho (no mesmo grafico - utilizando cores diferentes). O que voce pode concluir sobre os valores observados para esses dois tipos de vinho?\n",
    "Dica: utilize o hue do pairplot."
   ]
  },
  {
   "cell_type": "code",
   "execution_count": null,
   "metadata": {},
   "outputs": [],
   "source": []
  },
  {
   "cell_type": "code",
   "execution_count": null,
   "metadata": {},
   "outputs": [],
   "source": []
  }
 ],
 "metadata": {
  "kernelspec": {
   "display_name": "mum",
   "language": "python",
   "name": "python3"
  },
  "language_info": {
   "codemirror_mode": {
    "name": "ipython",
    "version": 3
   },
   "file_extension": ".py",
   "mimetype": "text/x-python",
   "name": "python",
   "nbconvert_exporter": "python",
   "pygments_lexer": "ipython3",
   "version": "3.11.8"
  }
 },
 "nbformat": 4,
 "nbformat_minor": 2
}
