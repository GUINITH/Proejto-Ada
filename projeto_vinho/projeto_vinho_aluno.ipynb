{
 "cells": [
  {
   "cell_type": "markdown",
   "metadata": {},
   "source": [
    "# Projeto"
   ]
  },
  {
   "cell_type": "markdown",
   "metadata": {},
   "source": [
    "Neste projeto, iremos explorar e analisar um conjunto de dados sobre a qualidade de vinhos tintos e brancos. \n",
    "Voce encontrara dois arquivos csv, um `winequality-red.csv` e `winequality-white.csv`."
   ]
  },
  {
   "cell_type": "markdown",
   "metadata": {},
   "source": [
    "## Tarefas do Projeto\n",
    "\n",
    "### 1. Leitura e Visualização dos Dados:\n",
    "Leia o conjunto de dados sobre a qualidade do vinho.\n",
    "Mostre as primeiras linhas dos dois DataFrames.\n",
    "Exiba informações sobre o DataFrames, como quantidade de linhas e colunas, tipos de dados, etc.\n",
    "\n"
   ]
  },
  {
   "cell_type": "code",
   "execution_count": null,
   "metadata": {},
   "outputs": [],
   "source": [
    "\n",
    "import pandas as pd\n",
    "\n",
    "# Carregar os dados\n",
    "df_vinhos_vermelhos = pd.read_csv('.\\wine_quality\\winequality-red.csv')\n",
    "df_vinhos_brancos = pd.read_csv('.\\wine_quality\\winequality-white.csv')\n",
    "\n",
    "# Mostrar as primeiras linhas de cada DataFrame\n",
    "print(df_vinhos_vermelhos.head())\n",
    "print(df_vinhos_brancos.head())\n",
    "\n",
    "# Exibir informações sobre os DataFrames\n",
    "print(df_vinhos_vermelhos.info())\n",
    "print(df_vinhos_brancos.info())\n",
    "\n",
    "# Verificar a quantidade de linhas e colunas em cada DataFrame\n",
    "print(\"Quantidade de linhas e colunas no DataFrame de vinho vermelho:\", df_vinhos_vermelhos.shape)\n",
    "print(\"Quantidade de linhas e colunas no DataFrame de vinho branco:\", df_vinhos_brancos.shape)\n",
    "\n",
    "# Verificar os tipos de dados das colunas\n",
    "tipos_de_dados1 = df_vinhos_vermelhos.dtypes\n",
    "tipos_de_dados2 = df_vinhos_brancos.dtypes\n",
    "\n",
    "print(\"Tipos de dados do DataFrame de vinhos vermelhos:\")\n",
    "print(tipos_de_dados1)\n",
    "\n",
    "print(\"\\nTipos de dados do DataFrame de vinhos brancos:\")\n",
    "print(tipos_de_dados2)\n"
   ]
  },
  {
   "cell_type": "markdown",
   "metadata": {},
   "source": [
    "### 2) Calcule a média, mediana e desvio-padrão, minimo, maximo e quartis da coluna 'pH'. Calcule a differenca entre os desvio-padroes, medias e medianas dos dois dataframes. "
   ]
  },
  {
   "cell_type": "code",
   "execution_count": 11,
   "metadata": {},
   "outputs": [
    {
     "name": "stdout",
     "output_type": "stream",
     "text": [
      "Media            3.218501\n",
      "Mediana          3.210000\n",
      "Minimo           2.720000\n",
      "Desvio Padrão    0.160787\n",
      "25%              3.110000\n",
      "50%              3.210000\n",
      "75%              3.320000\n",
      "dtype: float64\n"
     ]
    }
   ],
   "source": [
    "import pandas as pd\n",
    "\n",
    "# Carregar os dados\n",
    "df_vinhos_vermelhos = pd.read_csv('wine_quality/winequality-red.csv', sep=';')\n",
    "df_vinhos_brancos = pd.read_csv('wine_quality/winequality-white.csv', sep=';')\n",
    "\n",
    "# Concatenar os dataframes\n",
    "df_vinhos = pd.concat([df_vinhos_vermelhos, df_vinhos_brancos])\n",
    "\n",
    "# Armazenando o nome da coluna\n",
    "column_name = 'pH'\n",
    "\n",
    "# Calculando a média do pH\n",
    "media_pH = df_vinhos[column_name].mean()\n",
    "\n",
    "# Calculando a mediana do pH\n",
    "mediana_pH = df_vinhos[column_name].median()\n",
    "\n",
    "# Calculando o mínimo do pH\n",
    "minimo_pH = df_vinhos[column_name].min()\n",
    "\n",
    "# Calculando o desvio padrão do pH\n",
    "desvio_padrao_pH = df_vinhos[column_name].std()\n",
    "\n",
    "# Calculando os quantis do pH (25%, 50%, 75%)\n",
    "quantis_pH = df_vinhos[column_name].quantile([0.25, 0.5, 0.75])\n",
    "\n",
    "# Criando uma Series para armazenar os resultados\n",
    "resultados_pH = pd.Series({'Media': media_pH, 'Mediana': mediana_pH, 'Minimo': minimo_pH, 'Desvio Padrão': desvio_padrao_pH, '25%': quantis_pH[0.25], '50%': quantis_pH[0.5], '75%': quantis_pH[0.75]})\n",
    "\n",
    "print(resultados_pH)\n",
    "\n",
    "\n",
    "\n",
    "\n",
    "\n"
   ]
  },
  {
   "cell_type": "markdown",
   "metadata": {},
   "source": [
    "### 3) Crie um novo dataframe que junta os dois dataframes em somente um dataframe, adicione uma coluna `type` que tera o valor 'red' para os vinhos tintos e 'white\" para os vinhos brancos."
   ]
  },
  {
   "cell_type": "code",
   "execution_count": null,
   "metadata": {},
   "outputs": [],
   "source": []
  },
  {
   "cell_type": "markdown",
   "metadata": {},
   "source": [
    "### 4) Agrupe o novo dataframe pela variavel `type` e calcule a media da qualidade `quality` de cada tipo de vinho. Descreva em palavras os seus resultados."
   ]
  },
  {
   "cell_type": "code",
   "execution_count": null,
   "metadata": {},
   "outputs": [],
   "source": [
    "\n"
   ]
  },
  {
   "cell_type": "markdown",
   "metadata": {},
   "source": [
    "### 5) Usando o Numpy crie uma nova coluna para esse dataframe. Essa coluna devera ser chamada de `outlier_chlorides` e devera conter `True` caso a variavel `chlorides` esteja fora do intervalo [q1-1.5*IQR, q3 + 1.5*IQR], onde q1 e q3 correspondem ao primeiro e tercerio quartis e IQR corresponde ao intervalo interquartil. Caso contrario a variavel devera conter o valor `False`."
   ]
  },
  {
   "cell_type": "code",
   "execution_count": null,
   "metadata": {},
   "outputs": [],
   "source": []
  },
  {
   "cell_type": "markdown",
   "metadata": {},
   "source": [
    "### Conte o numero de outliers usando a variavel `outlier_chlorides`.\n",
    "\n"
   ]
  },
  {
   "cell_type": "code",
   "execution_count": null,
   "metadata": {},
   "outputs": [],
   "source": [
    "\n"
   ]
  },
  {
   "cell_type": "markdown",
   "metadata": {},
   "source": [
    "### 6) Utilizando a variavel `outlier_chlorides` remova os valores que sao considerados outilers desse Dataframe."
   ]
  },
  {
   "cell_type": "code",
   "execution_count": null,
   "metadata": {},
   "outputs": [],
   "source": [
    "\n"
   ]
  },
  {
   "cell_type": "markdown",
   "metadata": {},
   "source": [
    "### 7) Crie um gráfico de dispersão (scatter plot) mostrando a relação entre 'fixed acidtity' e 'residual_sugar'. No grafico, mostre os valores para vinhos brancos e tintos com dois tipos differentes de marcadores e com duas cores distintas. Explique a relacao entre as variaveis fixed acidtity' e 'residual_sugar'  para cada tipo de vinho com base nos seus resultados."
   ]
  },
  {
   "cell_type": "code",
   "execution_count": null,
   "metadata": {},
   "outputs": [],
   "source": [
    "\n"
   ]
  },
  {
   "cell_type": "markdown",
   "metadata": {},
   "source": [
    "### 8) Usando um histograma para cada tipo de vinho, mostre a distribuicao da variavel `quality` para cada `type` de vinho. "
   ]
  },
  {
   "cell_type": "code",
   "execution_count": null,
   "metadata": {},
   "outputs": [],
   "source": []
  },
  {
   "cell_type": "markdown",
   "metadata": {},
   "source": [
    "### 9) Utilizando as variaveis \"chlorides\";\"total sulfur dioxide\";\"density\";\"pH\"; faca um **pairplot** do  para avaliar visualmente algumas os scatter plots entre as colunas, par a par."
   ]
  },
  {
   "cell_type": "code",
   "execution_count": null,
   "metadata": {},
   "outputs": [],
   "source": [
    "\n"
   ]
  },
  {
   "cell_type": "markdown",
   "metadata": {},
   "source": [
    "### 10) Utilizando as variaveis \"chlorides\";\"total sulfur dioxide\";\"density\";\"pH\"; faca um **pairplot** do  para avaliar visualmente algumas os scatter plots entre as colunas, par a par para cada  tipo de vinho (no mesmo grafico - utilizando cores diferentes). O que voce pode concluir sobre os valores observados para esses dois tipos de vinho?\n",
    "Dica: utilize o hue do pairplot."
   ]
  },
  {
   "cell_type": "code",
   "execution_count": null,
   "metadata": {},
   "outputs": [],
   "source": []
  },
  {
   "cell_type": "code",
   "execution_count": null,
   "metadata": {},
   "outputs": [],
   "source": []
  }
 ],
 "metadata": {
  "kernelspec": {
   "display_name": "mum",
   "language": "python",
   "name": "python3"
  },
  "language_info": {
   "codemirror_mode": {
    "name": "ipython",
    "version": 3
   },
   "file_extension": ".py",
   "mimetype": "text/x-python",
   "name": "python",
   "nbconvert_exporter": "python",
   "pygments_lexer": "ipython3",
   "version": "3.11.8"
  }
 },
 "nbformat": 4,
 "nbformat_minor": 2
}
