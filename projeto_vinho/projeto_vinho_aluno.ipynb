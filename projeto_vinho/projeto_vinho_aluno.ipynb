{
 "cells": [
  {
   "cell_type": "markdown",
   "metadata": {},
   "source": [
    "# Projeto"
   ]
  },
  {
   "cell_type": "markdown",
   "metadata": {},
   "source": [
    "Neste projeto, iremos explorar e analisar um conjunto de dados sobre a qualidade de vinhos tintos e brancos. \n",
    "Voce encontrara dois arquivos csv, um `winequality-red.csv` e `winequality-white.csv`."
   ]
  },
  {
   "cell_type": "markdown",
   "metadata": {},
   "source": [
    "## Tarefas do Projeto\n",
    "\n",
    "### 1. Leitura e Visualização dos Dados:\n",
    "Leia o conjunto de dados sobre a qualidade do vinho.\n",
    "Mostre as primeiras linhas dos dois DataFrames.\n",
    "Exiba informações sobre o DataFrames, como quantidade de linhas e colunas, tipos de dados, etc.\n",
    "\n"
   ]
  },
  {
   "cell_type": "code",
   "execution_count": 74,
   "metadata": {},
   "outputs": [
    {
     "name": "stdout",
     "output_type": "stream",
     "text": [
      "  fixed acidity;\"volatile acidity\";\"citric acid\";\"residual sugar\";\"chlorides\";\"free sulfur dioxide\";\"total sulfur dioxide\";\"density\";\"pH\";\"sulphates\";\"alcohol\";\"quality\"\n",
      "0   7.4;0.7;0;1.9;0.076;11;34;0.9978;3.51;0.56;9.4;5                                                                                                                     \n",
      "1   7.8;0.88;0;2.6;0.098;25;67;0.9968;3.2;0.68;9.8;5                                                                                                                     \n",
      "2  7.8;0.76;0.04;2.3;0.092;15;54;0.997;3.26;0.65;...                                                                                                                     \n",
      "3  11.2;0.28;0.56;1.9;0.075;17;60;0.998;3.16;0.58...                                                                                                                     \n",
      "4   7.4;0.7;0;1.9;0.076;11;34;0.9978;3.51;0.56;9.4;5                                                                                                                     \n",
      "  fixed acidity;\"volatile acidity\";\"citric acid\";\"residual sugar\";\"chlorides\";\"free sulfur dioxide\";\"total sulfur dioxide\";\"density\";\"pH\";\"sulphates\";\"alcohol\";\"quality\"\n",
      "0   7;0.27;0.36;20.7;0.045;45;170;1.001;3;0.45;8.8;6                                                                                                                     \n",
      "1  6.3;0.3;0.34;1.6;0.049;14;132;0.994;3.3;0.49;9...                                                                                                                     \n",
      "2  8.1;0.28;0.4;6.9;0.05;30;97;0.9951;3.26;0.44;1...                                                                                                                     \n",
      "3  7.2;0.23;0.32;8.5;0.058;47;186;0.9956;3.19;0.4...                                                                                                                     \n",
      "4  7.2;0.23;0.32;8.5;0.058;47;186;0.9956;3.19;0.4...                                                                                                                     \n",
      "<class 'pandas.core.frame.DataFrame'>\n",
      "RangeIndex: 1599 entries, 0 to 1598\n",
      "Data columns (total 1 columns):\n",
      " #   Column                                                                                                                                                                   Non-Null Count  Dtype \n",
      "---  ------                                                                                                                                                                   --------------  ----- \n",
      " 0   fixed acidity;\"volatile acidity\";\"citric acid\";\"residual sugar\";\"chlorides\";\"free sulfur dioxide\";\"total sulfur dioxide\";\"density\";\"pH\";\"sulphates\";\"alcohol\";\"quality\"  1599 non-null   object\n",
      "dtypes: object(1)\n",
      "memory usage: 12.6+ KB\n",
      "None\n",
      "<class 'pandas.core.frame.DataFrame'>\n",
      "RangeIndex: 4898 entries, 0 to 4897\n",
      "Data columns (total 1 columns):\n",
      " #   Column                                                                                                                                                                   Non-Null Count  Dtype \n",
      "---  ------                                                                                                                                                                   --------------  ----- \n",
      " 0   fixed acidity;\"volatile acidity\";\"citric acid\";\"residual sugar\";\"chlorides\";\"free sulfur dioxide\";\"total sulfur dioxide\";\"density\";\"pH\";\"sulphates\";\"alcohol\";\"quality\"  4898 non-null   object\n",
      "dtypes: object(1)\n",
      "memory usage: 38.4+ KB\n",
      "None\n",
      "Quantidade de linhas e colunas no DataFrame de vinho vermelho: (1599, 1)\n",
      "Quantidade de linhas e colunas no DataFrame de vinho branco: (4898, 1)\n",
      "Tipos de dados do DataFrame de vinhos vermelhos:\n",
      "fixed acidity;\"volatile acidity\";\"citric acid\";\"residual sugar\";\"chlorides\";\"free sulfur dioxide\";\"total sulfur dioxide\";\"density\";\"pH\";\"sulphates\";\"alcohol\";\"quality\"    object\n",
      "dtype: object\n",
      "\n",
      "Tipos de dados do DataFrame de vinhos brancos:\n",
      "fixed acidity;\"volatile acidity\";\"citric acid\";\"residual sugar\";\"chlorides\";\"free sulfur dioxide\";\"total sulfur dioxide\";\"density\";\"pH\";\"sulphates\";\"alcohol\";\"quality\"    object\n",
      "dtype: object\n"
     ]
    }
   ],
   "source": [
    "\n",
    "import pandas as pd\n",
    "\n",
    "# Carregar os dados\n",
    "df_vinhos_vermelhos = pd.read_csv('.\\wine_quality\\winequality-red.csv')\n",
    "df_vinhos_brancos = pd.read_csv('.\\wine_quality\\winequality-white.csv')\n",
    "\n",
    "# Mostrar as primeiras linhas de cada DataFrame\n",
    "print(df_vinhos_vermelhos.head())\n",
    "print(df_vinhos_brancos.head())\n",
    "\n",
    "# Exibir informações sobre os DataFrames\n",
    "print(df_vinhos_vermelhos.info())\n",
    "print(df_vinhos_brancos.info())\n",
    "\n",
    "# Verificando a quantidade de linhas e colunas em cada DataFrame\n",
    "print(\"Quantidade de linhas e colunas no DataFrame de vinho vermelho:\", df_vinhos_vermelhos.shape)\n",
    "print(\"Quantidade de linhas e colunas no DataFrame de vinho branco:\", df_vinhos_brancos.shape)\n",
    "\n",
    "# Verificando os tipos de dados das colunas\n",
    "tipos_de_dados1 = df_vinhos_vermelhos.dtypes\n",
    "tipos_de_dados2 = df_vinhos_brancos.dtypes\n",
    "\n",
    "print(\"Tipos de dados do DataFrame de vinhos vermelhos:\")\n",
    "print(tipos_de_dados1)\n",
    "\n",
    "print(\"\\nTipos de dados do DataFrame de vinhos brancos:\")\n",
    "print(tipos_de_dados2)\n"
   ]
  },
  {
   "cell_type": "markdown",
   "metadata": {},
   "source": [
    "### 2) Calcule a média, mediana e desvio-padrão, minimo, maximo e quartis da coluna 'pH'. Calcule a differenca entre os desvio-padroes, medias e medianas dos dois dataframes. "
   ]
  },
  {
   "cell_type": "code",
   "execution_count": 75,
   "metadata": {},
   "outputs": [
    {
     "name": "stdout",
     "output_type": "stream",
     "text": [
      "Media            3.218501\n",
      "Mediana          3.210000\n",
      "Minimo           2.720000\n",
      "Desvio Padrão    0.160787\n",
      "25%              3.110000\n",
      "50%              3.210000\n",
      "75%              3.320000\n",
      "dtype: float64\n"
     ]
    }
   ],
   "source": [
    "import pandas as pd\n",
    "\n",
    "# Carregando dataframe\n",
    "df_vinhos_vermelhos = pd.read_csv('wine_quality/winequality-red.csv', sep=';')\n",
    "df_vinhos_brancos = pd.read_csv('wine_quality/winequality-white.csv', sep=';')\n",
    "\n",
    "# Concatenar os dataframes\n",
    "df_vinhos = pd.concat([df_vinhos_vermelhos, df_vinhos_brancos])\n",
    "\n",
    "# Armazenando o nome da coluna\n",
    "column_name = 'pH'\n",
    "\n",
    "# Calculando a média do pH\n",
    "media_pH = df_vinhos[column_name].mean()\n",
    "\n",
    "# Calculando a mediana do pH\n",
    "mediana_pH = df_vinhos[column_name].median()\n",
    "\n",
    "# Calculando o mínimo do pH\n",
    "minimo_pH = df_vinhos[column_name].min()\n",
    "\n",
    "# Calculando o desvio padrão do pH\n",
    "desvio_padrao_pH = df_vinhos[column_name].std()\n",
    "\n",
    "# Calculando os quantis do pH (25%, 50%, 75%)\n",
    "quantis_pH = df_vinhos[column_name].quantile([0.25, 0.5, 0.75])\n",
    "\n",
    "# Criando uma Series para armazenar os resultados\n",
    "resultados_pH = pd.Series({'Media': media_pH, 'Mediana': mediana_pH, 'Minimo': minimo_pH, 'Desvio Padrão': desvio_padrao_pH, '25%': quantis_pH[0.25], '50%': quantis_pH[0.5], '75%': quantis_pH[0.75]})\n",
    "\n",
    "print(resultados_pH)\n",
    "\n",
    "\n",
    "\n",
    "\n",
    "\n"
   ]
  },
  {
   "cell_type": "markdown",
   "metadata": {},
   "source": [
    "### 3) Crie um novo dataframe que junta os dois dataframes em somente um dataframe, adicione uma coluna `type` que tera o valor 'red' para os vinhos tintos e 'white\" para os vinhos brancos."
   ]
  },
  {
   "cell_type": "code",
   "execution_count": 76,
   "metadata": {},
   "outputs": [
    {
     "name": "stdout",
     "output_type": "stream",
     "text": [
      "      fixed acidity  volatile acidity  citric acid  residual sugar  chlorides  \\\n",
      "31              8.3              0.14         0.34             1.1      0.042   \n",
      "4576            5.9              0.30         0.29             1.1      0.036   \n",
      "1212            6.8              0.65         0.02             2.1      0.078   \n",
      "459            11.6              0.58         0.66             2.2      0.074   \n",
      "2376            7.2              0.20         0.30             2.0      0.039   \n",
      "\n",
      "      free sulfur dioxide  total sulfur dioxide  density    pH  sulphates  \\\n",
      "31                    7.0                  47.0  0.99340  3.47       0.40   \n",
      "4576                 23.0                  56.0  0.99040  3.19       0.38   \n",
      "1212                  8.0                  15.0  0.99498  3.35       0.62   \n",
      "459                  10.0                  47.0  1.00080  3.25       0.57   \n",
      "2376                 43.0                 188.0  0.99110  3.30       0.41   \n",
      "\n",
      "      alcohol  quality   type  \n",
      "31       10.2        6  white  \n",
      "4576     11.3        5  white  \n",
      "1212     10.4        6    red  \n",
      "459       9.0        3    red  \n",
      "2376     12.0        6  white  \n"
     ]
    }
   ],
   "source": [
    "\n",
    "# criando a coluna type' para os DataFrames\n",
    "df_vinhos_vermelhos['type'] = 'red'\n",
    "df_vinhos_brancos['type'] = 'white'\n",
    "\n",
    "# Concatenar os DataFrames\n",
    "df_vinhos_concatenados = pd.concat([df_vinhos_vermelhos, df_vinhos_brancos])\n",
    "\n",
    "print(df_vinhos_concatenados.sample(5))\n",
    "\n"
   ]
  },
  {
   "cell_type": "markdown",
   "metadata": {},
   "source": [
    "### 4) Agrupe o novo dataframe pela variavel `type` e calcule a media da qualidade `quality` de cada tipo de vinho. Descreva em palavras os seus resultados."
   ]
  },
  {
   "cell_type": "code",
   "execution_count": 80,
   "metadata": {},
   "outputs": [
    {
     "name": "stdout",
     "output_type": "stream",
     "text": [
      "type\n",
      "red      5.636023\n",
      "white    5.877909\n",
      "Name: quality, dtype: float64\n"
     ]
    }
   ],
   "source": [
    "\n",
    "# Passei a colunas em variáveis pois estava tomando muito keyerro e assim como o primeiro exercício eu utilizei o mesmo método.\n",
    "col1= 'type'\n",
    "col2='quality'\n",
    "\n",
    "#Criei um novo df que vai receber o dataFrame df_vinhos_concatenados, agrupado a variável type, que tem dois valores 'red' e 'white'\n",
    "\n",
    "# Depois chamei a coluna 'quality' e com intuito de saber a média de cada tipo de vinho, utilizei o método mean() para finalizar e obter essa informação.\n",
    "media_quality = df_vinhos_concatenados.groupby(col1)[col2].mean()\n",
    "print(media_quality)\n",
    "\n"
   ]
  },
  {
   "cell_type": "markdown",
   "metadata": {},
   "source": [
    "### 5) Usando o Numpy crie uma nova coluna para esse dataframe. Essa coluna devera ser chamada de `outlier_chlorides` e devera conter `True` caso a variavel `chlorides` esteja fora do intervalo [q1-1.5*IQR, q3 + 1.5*IQR], onde q1 e q3 correspondem ao primeiro e tercerio quartis e IQR corresponde ao intervalo interquartil. Caso contrario a variavel devera conter o valor `False`."
   ]
  },
  {
   "cell_type": "code",
   "execution_count": 86,
   "metadata": {},
   "outputs": [
    {
     "name": "stdout",
     "output_type": "stream",
     "text": [
      "   fixed acidity  volatile acidity  citric acid  residual sugar  chlorides  \\\n",
      "0            7.4              0.70         0.00             1.9      0.076   \n",
      "1            7.8              0.88         0.00             2.6      0.098   \n",
      "2            7.8              0.76         0.04             2.3      0.092   \n",
      "3           11.2              0.28         0.56             1.9      0.075   \n",
      "4            7.4              0.70         0.00             1.9      0.076   \n",
      "\n",
      "   free sulfur dioxide  total sulfur dioxide  density    pH  sulphates  \\\n",
      "0                 11.0                  34.0   0.9978  3.51       0.56   \n",
      "1                 25.0                  67.0   0.9968  3.20       0.68   \n",
      "2                 15.0                  54.0   0.9970  3.26       0.65   \n",
      "3                 17.0                  60.0   0.9980  3.16       0.58   \n",
      "4                 11.0                  34.0   0.9978  3.51       0.56   \n",
      "\n",
      "   alcohol  quality  outlier_chlorides  \n",
      "0      9.4        5              False  \n",
      "1      9.8        5              False  \n",
      "2      9.8        5              False  \n",
      "3      9.8        6              False  \n",
      "4      9.4        5              False  \n"
     ]
    }
   ],
   "source": [
    "\n",
    "import numpy as np\n",
    "\n",
    "# Calcular os quartis e o intervalo interquartil (IQR) para a coluna 'chlorides'\n",
    "q1 = df_vinhos_concatenados['chlorides'].quantile(0.25)\n",
    "q3 = df_vinhos_concatenados['chlorides'].quantile(0.75)\n",
    "iqr = q3 - q1\n",
    "\n",
    "# Calcular os limites do intervalo para identificar outliers\n",
    "lower_limit = q1 - 1.5 * iqr\n",
    "upper_limit = q3 + 1.5 * iqr\n",
    "\n",
    "# Criar a nova coluna 'outlier_chlorides'\n",
    "df_vinhos_concatenados['outlier_chlorides'] = (df_vinhos_concatenados['chlorides'] < lower_limit) | (df_vinhos_concatenados['chlorides'] > upper_limit)\n",
    "\n",
    "# Exibir as primeiras linhas do DataFrame com a nova coluna\n",
    "print(df_vinhos_concatenados.head())\n",
    "\n"
   ]
  },
  {
   "cell_type": "markdown",
   "metadata": {},
   "source": [
    "### Conte o numero de outliers usando a variavel `outlier_chlorides`.\n",
    "\n"
   ]
  },
  {
   "cell_type": "code",
   "execution_count": null,
   "metadata": {},
   "outputs": [],
   "source": [
    "\n"
   ]
  },
  {
   "cell_type": "markdown",
   "metadata": {},
   "source": [
    "### 6) Utilizando a variavel `outlier_chlorides` remova os valores que sao considerados outilers desse Dataframe."
   ]
  },
  {
   "cell_type": "code",
   "execution_count": null,
   "metadata": {},
   "outputs": [],
   "source": [
    "\n"
   ]
  },
  {
   "cell_type": "markdown",
   "metadata": {},
   "source": [
    "### 7) Crie um gráfico de dispersão (scatter plot) mostrando a relação entre 'fixed acidtity' e 'residual_sugar'. No grafico, mostre os valores para vinhos brancos e tintos com dois tipos differentes de marcadores e com duas cores distintas. Explique a relacao entre as variaveis fixed acidtity' e 'residual_sugar'  para cada tipo de vinho com base nos seus resultados."
   ]
  },
  {
   "cell_type": "code",
   "execution_count": null,
   "metadata": {},
   "outputs": [],
   "source": [
    "\n"
   ]
  },
  {
   "cell_type": "markdown",
   "metadata": {},
   "source": [
    "### 8) Usando um histograma para cada tipo de vinho, mostre a distribuicao da variavel `quality` para cada `type` de vinho. "
   ]
  },
  {
   "cell_type": "code",
   "execution_count": null,
   "metadata": {},
   "outputs": [],
   "source": []
  },
  {
   "cell_type": "markdown",
   "metadata": {},
   "source": [
    "### 9) Utilizando as variaveis \"chlorides\";\"total sulfur dioxide\";\"density\";\"pH\"; faca um **pairplot** do  para avaliar visualmente algumas os scatter plots entre as colunas, par a par."
   ]
  },
  {
   "cell_type": "code",
   "execution_count": null,
   "metadata": {},
   "outputs": [],
   "source": [
    "\n"
   ]
  },
  {
   "cell_type": "markdown",
   "metadata": {},
   "source": [
    "### 10) Utilizando as variaveis \"chlorides\";\"total sulfur dioxide\";\"density\";\"pH\"; faca um **pairplot** do  para avaliar visualmente algumas os scatter plots entre as colunas, par a par para cada  tipo de vinho (no mesmo grafico - utilizando cores diferentes). O que voce pode concluir sobre os valores observados para esses dois tipos de vinho?\n",
    "Dica: utilize o hue do pairplot."
   ]
  },
  {
   "cell_type": "code",
   "execution_count": null,
   "metadata": {},
   "outputs": [],
   "source": []
  },
  {
   "cell_type": "code",
   "execution_count": null,
   "metadata": {},
   "outputs": [],
   "source": []
  }
 ],
 "metadata": {
  "kernelspec": {
   "display_name": "mum",
   "language": "python",
   "name": "python3"
  },
  "language_info": {
   "codemirror_mode": {
    "name": "ipython",
    "version": 3
   },
   "file_extension": ".py",
   "mimetype": "text/x-python",
   "name": "python",
   "nbconvert_exporter": "python",
   "pygments_lexer": "ipython3",
   "version": "3.11.8"
  }
 },
 "nbformat": 4,
 "nbformat_minor": 2
}
