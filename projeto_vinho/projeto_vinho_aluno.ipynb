{
 "cells": [
  {
   "cell_type": "markdown",
   "metadata": {},
   "source": [
    "# Projeto"
   ]
  },
  {
   "cell_type": "markdown",
   "metadata": {},
   "source": [
    "Neste projeto, iremos explorar e analisar um conjunto de dados sobre a qualidade de vinhos tintos e brancos. \n",
    "Voce encontrara dois arquivos csv, um `winequality-red.csv` e `winequality-white.csv`."
   ]
  },
  {
   "cell_type": "markdown",
   "metadata": {},
   "source": [
    "## Tarefas do Projeto\n",
    "\n",
    "### 1. Leitura e Visualização dos Dados:\n",
    "Leia o conjunto de dados sobre a qualidade do vinho.\n",
    "Mostre as primeiras linhas dos dois DataFrames.\n",
    "Exiba informações sobre o DataFrames, como quantidade de linhas e colunas, tipos de dados, etc.\n",
    "\n"
   ]
  },
  {
   "cell_type": "code",
   "execution_count": null,
   "metadata": {},
   "outputs": [],
   "source": [
    "\n"
   ]
  },
  {
   "cell_type": "markdown",
   "metadata": {},
   "source": [
    "### 2) Calcule a média, mediana e desvio-padrão, minimo, maximo e quartis da coluna 'pH'. Calcule a differenca entre os desvio-padroes, medias e medianas dos dois dataframes. "
   ]
  },
  {
   "cell_type": "code",
   "execution_count": null,
   "metadata": {},
   "outputs": [],
   "source": [
    "\n"
   ]
  },
  {
   "cell_type": "markdown",
   "metadata": {},
   "source": [
    "### 3) Crie um novo dataframe que junta os dois dataframes em somente um dataframe, adicione uma coluna `type` que tera o valor 'red' para os vinhos tintos e 'white\" para os vinhos brancos."
   ]
  },
  {
   "cell_type": "code",
   "execution_count": null,
   "metadata": {},
   "outputs": [],
   "source": []
  },
  {
   "cell_type": "markdown",
   "metadata": {},
   "source": [
    "### 4) Agrupe o novo dataframe pela variavel `type` e calcule a media da qualidade `quality` de cada tipo de vinho. Descreva em palavras os seus resultados."
   ]
  },
  {
   "cell_type": "code",
   "execution_count": null,
   "metadata": {},
   "outputs": [],
   "source": [
    "\n"
   ]
  },
  {
   "cell_type": "markdown",
   "metadata": {},
   "source": [
    "### 5) Usando o Numpy crie uma nova coluna para esse dataframe. Essa coluna devera ser chamada de `outlier_chlorides` e devera conter `True` caso a variavel `chlorides` esteja fora do intervalo [q1-1.5*IQR, q3 + 1.5*IQR], onde q1 e q3 correspondem ao primeiro e tercerio quartis e IQR corresponde ao intervalo interquartil. Caso contrario a variavel devera conter o valor `False`."
   ]
  },
  {
   "cell_type": "code",
   "execution_count": null,
   "metadata": {},
   "outputs": [],
   "source": []
  },
  {
   "cell_type": "markdown",
   "metadata": {},
   "source": [
    "### Conte o numero de outliers usando a variavel `outlier_chlorides`.\n",
    "\n"
   ]
  },
  {
   "cell_type": "code",
   "execution_count": null,
   "metadata": {},
   "outputs": [],
   "source": [
    "\n"
   ]
  },
  {
   "cell_type": "markdown",
   "metadata": {},
   "source": [
    "### 6) Utilizando a variavel `outlier_chlorides` remova os valores que sao considerados outilers desse Dataframe."
   ]
  },
  {
   "cell_type": "code",
   "execution_count": null,
   "metadata": {},
   "outputs": [],
   "source": [
    "\n"
   ]
  },
  {
   "cell_type": "markdown",
   "metadata": {},
   "source": [
    "### 7) Crie um gráfico de dispersão (scatter plot) mostrando a relação entre 'fixed acidtity' e 'residual_sugar'. No grafico, mostre os valores para vinhos brancos e tintos com dois tipos differentes de marcadores e com duas cores distintas. Explique a relacao entre as variaveis fixed acidtity' e 'residual_sugar'  para cada tipo de vinho com base nos seus resultados."
   ]
  },
  {
   "cell_type": "code",
   "execution_count": null,
   "metadata": {},
   "outputs": [],
   "source": [
    "\n"
   ]
  },
  {
   "cell_type": "markdown",
   "metadata": {},
   "source": [
    "### 8) Usando um histograma para cada tipo de vinho, mostre a distribuicao da variavel `quality` para cada `type` de vinho. "
   ]
  },
  {
   "cell_type": "code",
   "execution_count": null,
   "metadata": {},
   "outputs": [],
   "source": []
  },
  {
   "cell_type": "markdown",
   "metadata": {},
   "source": [
    "### 9) Utilizando as variaveis \"chlorides\";\"total sulfur dioxide\";\"density\";\"pH\"; faca um **pairplot** do  para avaliar visualmente algumas os scatter plots entre as colunas, par a par."
   ]
  },
  {
   "cell_type": "code",
   "execution_count": null,
   "metadata": {},
   "outputs": [],
   "source": [
    "\n"
   ]
  },
  {
   "cell_type": "markdown",
   "metadata": {},
   "source": [
    "### 10) Utilizando as variaveis \"chlorides\";\"total sulfur dioxide\";\"density\";\"pH\"; faca um **pairplot** do  para avaliar visualmente algumas os scatter plots entre as colunas, par a par para cada  tipo de vinho (no mesmo grafico - utilizando cores diferentes). O que voce pode concluir sobre os valores observados para esses dois tipos de vinho?\n",
    "Dica: utilize o hue do pairplot."
   ]
  },
  {
   "cell_type": "code",
   "execution_count": null,
   "metadata": {},
   "outputs": [],
   "source": []
  },
  {
   "cell_type": "code",
   "execution_count": null,
   "metadata": {},
   "outputs": [],
   "source": []
  }
 ],
 "metadata": {
  "kernelspec": {
   "display_name": "mum",
   "language": "python",
   "name": "python3"
  },
  "language_info": {
   "codemirror_mode": {
    "name": "ipython",
    "version": 3
   },
   "file_extension": ".py",
   "mimetype": "text/x-python",
   "name": "python",
   "nbconvert_exporter": "python",
   "pygments_lexer": "ipython3",
   "version": "3.10.6"
  }
 },
 "nbformat": 4,
 "nbformat_minor": 2
}
